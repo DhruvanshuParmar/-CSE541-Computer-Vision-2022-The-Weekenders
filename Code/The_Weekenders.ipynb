{
  "nbformat": 4,
  "nbformat_minor": 0,
  "metadata": {
    "colab": {
      "name": "The_Weekenders.ipynb",
      "provenance": [],
      "collapsed_sections": []
    },
    "kernelspec": {
      "name": "python3",
      "display_name": "Python 3"
    },
    "language_info": {
      "name": "python"
    },
    "accelerator": "GPU"
  },
  "cells": [
    {
      "cell_type": "code",
      "source": [
        "import tensorflow as tf\n",
        "from tensorflow.keras.preprocessing import image\n",
        "import numpy as np\n",
        "from tensorflow.keras.applications.efficientnet import preprocess_input\n",
        "import matplotlib.pyplot as plt\n"
      ],
      "metadata": {
        "id": "byc7mLIO0xhs"
      },
      "execution_count": 2,
      "outputs": []
    },
    {
      "cell_type": "code",
      "source": [
        "from google.colab import drive\n",
        "drive.mount('/content/gdrive')"
      ],
      "metadata": {
        "colab": {
          "base_uri": "https://localhost:8080/"
        },
        "id": "bR9-aYsJbPOA",
        "outputId": "7f6dee06-749b-4c7e-b502-f54f58703d30"
      },
      "execution_count": 2,
      "outputs": [
        {
          "output_type": "stream",
          "name": "stdout",
          "text": [
            "Mounted at /content/gdrive\n"
          ]
        }
      ]
    },
    {
      "cell_type": "code",
      "source": [
        "# copying image files from drive to colab\n",
        "\n",
        "!rm -rf /content/test # checking if the exist with same folder and deleting it\n",
        "!cp -r /content/gdrive/Othercomputers/BFMC/Bfmc_ahduni/data   /content/data"
      ],
      "metadata": {
        "id": "eKTFHumG13qz"
      },
      "execution_count": 3,
      "outputs": []
    },
    {
      "cell_type": "markdown",
      "source": [
        "## Creating DataSet"
      ],
      "metadata": {
        "id": "WEz19R22PIQ9"
      }
    },
    {
      "cell_type": "code",
      "source": [
        "# The image_dataset_from_directory creates dataset from directory\n",
        "# Creating training dataset\n",
        "train_ds = tf.keras.utils.image_dataset_from_directory(\n",
        "    directory='/content/data/training_data',\n",
        "    labels='inferred',\n",
        "    class_names=['bicycle', 'goods_vehicles', 'hump', 'no_entry', 'no_left', 'no_overtaking', 'no_parking', 'no_right', 'no_stopping', 'parking', 'priority_to', 'speed_limit', 'stop', 'yield'],\n",
        "    label_mode='categorical',\n",
        "    batch_size=64,\n",
        "    image_size=(224, 224))\n",
        "\n",
        "# Now, creating testing dataset\n",
        "validation_ds = tf.keras.utils.image_dataset_from_directory(\n",
        "    directory='/content/data/testing_data',\n",
        "    labels='inferred',\n",
        "    class_names=['bicycle', 'goods_vehicles', 'hump', 'no_entry', 'no_left', 'no_overtaking', 'no_parking', 'no_right', 'no_stopping', 'parking', 'priority_to', 'speed_limit', 'stop', 'yield'],\n",
        "    label_mode='categorical',\n",
        "    batch_size=64,\n",
        "    image_size=(224, 224))"
      ],
      "metadata": {
        "colab": {
          "base_uri": "https://localhost:8080/"
        },
        "id": "mhqZhxs_5ift",
        "outputId": "fc859e3e-87f1-4cf5-8b87-d8250a23eaf9"
      },
      "execution_count": 9,
      "outputs": [
        {
          "output_type": "stream",
          "name": "stdout",
          "text": [
            "Found 72918 files belonging to 14 classes.\n",
            "Found 33340 files belonging to 14 classes.\n"
          ]
        }
      ]
    },
    {
      "cell_type": "markdown",
      "source": [
        "## Creating the Model"
      ],
      "metadata": {
        "id": "iPZbGLtCRpG-"
      }
    },
    {
      "cell_type": "code",
      "source": [
        "# creating EfficientNetB0 model\n",
        "model = tf.keras.applications.EfficientNetB0(\n",
        "    include_top=True,\n",
        "    weights= None,\n",
        "    input_tensor=None,\n",
        "    input_shape=None,\n",
        "    pooling=None,\n",
        "    classes=14,\n",
        "    classifier_activation=\"softmax\"\n",
        ")"
      ],
      "metadata": {
        "id": "AO_Znjndbvyf"
      },
      "execution_count": 10,
      "outputs": []
    },
    {
      "cell_type": "code",
      "source": [
        "# Adding optimizer and loss funtion to the model\n",
        "# Here optimizer is adam and loss function is mean square root\n",
        "model.compile(optimizer=\"adam\", loss=\"mse\")\n"
      ],
      "metadata": {
        "id": "XvSkJqpcvETa"
      },
      "execution_count": 11,
      "outputs": []
    },
    {
      "cell_type": "code",
      "source": [
        "model.fit(train_ds, epochs=10, validation_data=validation_ds)"
      ],
      "metadata": {
        "colab": {
          "base_uri": "https://localhost:8080/"
        },
        "id": "dg7lgrC7AnKJ",
        "outputId": "318c2e83-56c3-41a8-a302-f0ba1911f1a5"
      },
      "execution_count": 12,
      "outputs": [
        {
          "output_type": "stream",
          "name": "stdout",
          "text": [
            "Epoch 1/10\n",
            "1140/1140 [==============================] - 1382s 1s/step - loss: 0.0191 - val_loss: 0.0270\n",
            "Epoch 2/10\n",
            "1140/1140 [==============================] - 1364s 1s/step - loss: 0.0084 - val_loss: 0.0441\n",
            "Epoch 3/10\n",
            "1140/1140 [==============================] - 1364s 1s/step - loss: 0.0046 - val_loss: 0.0189\n",
            "Epoch 4/10\n",
            "1140/1140 [==============================] - 1364s 1s/step - loss: 0.0022 - val_loss: 0.0161\n",
            "Epoch 5/10\n",
            "1140/1140 [==============================] - 1363s 1s/step - loss: 0.0015 - val_loss: 0.0225\n",
            "Epoch 6/10\n",
            "1140/1140 [==============================] - 1366s 1s/step - loss: 0.0014 - val_loss: 0.0235\n",
            "Epoch 7/10\n",
            "1140/1140 [==============================] - 1362s 1s/step - loss: 0.0011 - val_loss: 0.0231\n",
            "Epoch 8/10\n",
            "1140/1140 [==============================] - 1362s 1s/step - loss: 0.0011 - val_loss: 0.0153\n",
            "Epoch 9/10\n",
            "1140/1140 [==============================] - 1362s 1s/step - loss: 0.0011 - val_loss: 0.0178\n",
            "Epoch 10/10\n",
            "1140/1140 [==============================] - 1363s 1s/step - loss: 8.7491e-04 - val_loss: 0.0155\n"
          ]
        },
        {
          "output_type": "execute_result",
          "data": {
            "text/plain": [
              "<keras.callbacks.History at 0x7f8911d076d0>"
            ]
          },
          "metadata": {},
          "execution_count": 12
        }
      ]
    },
    {
      "cell_type": "code",
      "source": [
        "model_acc = model.evaluate(validation_ds)"
      ],
      "metadata": {
        "colab": {
          "base_uri": "https://localhost:8080/"
        },
        "id": "WMWu0Z6gDTBr",
        "outputId": "7fcbf83b-a2bb-4af7-d14e-3423e2a5fad6"
      },
      "execution_count": 29,
      "outputs": [
        {
          "output_type": "stream",
          "name": "stdout",
          "text": [
            "521/521 [==============================] - 131s 251ms/step - loss: 0.0155\n"
          ]
        }
      ]
    },
    {
      "cell_type": "code",
      "source": [
        "# creating custom function for decoding predictions\n",
        "def decode_prediction(preds):\n",
        "    class_names=['bicycle', 'goods_vehicles', 'hump', 'no_entry', 'no_left', 'no_overtaking', 'no_parking', 'no_right', 'no_stopping', 'parking', 'priority_to', 'speed_limit', 'stop', 'yield']\n",
        "    last = 0\n",
        "    for i in range(14):\n",
        "      last = max(last, preds[0][i])\n",
        "    k = 0\n",
        "    for j in preds[0]:\n",
        "      if(j == last):\n",
        "        print(\"predicted output is :\", class_names[k])\n",
        "      k = k + 1\n"
      ],
      "metadata": {
        "id": "S-r7hGPpA1uv"
      },
      "execution_count": 21,
      "outputs": []
    },
    {
      "cell_type": "code",
      "source": [
        "img_path = '/content/data/testing_data/no_entry/01_12_07_02_0039.bmp'\n",
        "# img_path = '/content/data/testing_data/parking/01_14_07_01_0340.bmp'\n",
        "img = image.load_img(img_path, target_size=(224, 224))\n",
        "x = image.img_to_array(img)\n",
        "x = np.expand_dims(x, axis=0)\n",
        "\n",
        "x = tf.keras.applications.efficientnet.preprocess_input(x)\n",
        "\n",
        "preds = model.predict(x)\n",
        "decode_prediction(preds)\n"
      ],
      "metadata": {
        "colab": {
          "base_uri": "https://localhost:8080/"
        },
        "id": "kTw2CdvBDgaZ",
        "outputId": "364074f0-6339-4552-fdb8-3605f123b779"
      },
      "execution_count": 26,
      "outputs": [
        {
          "output_type": "stream",
          "name": "stdout",
          "text": [
            "predicted output is : no_entry\n"
          ]
        }
      ]
    },
    {
      "cell_type": "markdown",
      "source": [
        "## Training for CategoricalCrossentropy loss function"
      ],
      "metadata": {
        "id": "IwxVRTzVRv28"
      }
    },
    {
      "cell_type": "code",
      "source": [
        "# creating EfficientNetB0 model\n",
        "model2 = tf.keras.applications.EfficientNetB0(\n",
        "    include_top=True,\n",
        "    weights= None,\n",
        "    input_tensor=None,\n",
        "    input_shape=None,\n",
        "    pooling=None,\n",
        "    classes=14,\n",
        "    classifier_activation=\"softmax\"\n",
        ")"
      ],
      "metadata": {
        "id": "G5l_gzx7dMbN"
      },
      "execution_count": 40,
      "outputs": []
    },
    {
      "cell_type": "code",
      "source": [
        "# Adding optimizer and loss funtion to the model\n",
        "# Here optimizer is adam and loss function is mean square root\n",
        "model2.compile(optimizer=\"adam\", loss=\"CategoricalCrossentropy\", metrics = [\"categorical_accuracy\" ])"
      ],
      "metadata": {
        "id": "XE1PUNwxXMwI"
      },
      "execution_count": 42,
      "outputs": []
    },
    {
      "cell_type": "code",
      "source": [
        "model2.fit(train_ds, epochs=10, validation_data=validation_ds)"
      ],
      "metadata": {
        "colab": {
          "base_uri": "https://localhost:8080/"
        },
        "id": "Lt43AbKEYb6I",
        "outputId": "c2820b49-ab68-4630-e4a2-a55c4f740dfd"
      },
      "execution_count": null,
      "outputs": [
        {
          "output_type": "stream",
          "name": "stdout",
          "text": [
            "Epoch 1/10\n",
            "1140/1140 [==============================] - 1383s 1s/step - loss: 0.6346 - categorical_accuracy: 0.8302 - val_loss: 0.8727 - val_categorical_accuracy: 0.8184\n",
            "Epoch 2/10\n",
            "1140/1140 [==============================] - 1381s 1s/step - loss: 0.0822 - categorical_accuracy: 0.9737 - val_loss: 1.2039 - val_categorical_accuracy: 0.7972\n",
            "Epoch 3/10\n",
            "1140/1140 [==============================] - 1381s 1s/step - loss: 0.0535 - categorical_accuracy: 0.9835 - val_loss: 1.3579 - val_categorical_accuracy: 0.7581\n",
            "Epoch 4/10\n",
            " 637/1140 [===============>..............] - ETA: 9:09 - loss: 0.0422 - categorical_accuracy: 0.9868"
          ]
        }
      ]
    },
    {
      "cell_type": "code",
      "source": [
        "img_path = '/content/data/testing_data/no_entry/01_12_07_02_0039.bmp'\n",
        "# img_path = '/content/data/testing_data/parking/01_14_07_01_0340.bmp'\n",
        "img = image.load_img(img_path, target_size=(224, 224))\n",
        "x = image.img_to_array(img)\n",
        "x = np.expand_dims(x, axis=0)\n",
        "\n",
        "x = tf.keras.applications.efficientnet.preprocess_input(x)\n",
        "\n",
        "preds2 = model2.predict(x)\n",
        "decode_prediction(preds2)\n"
      ],
      "metadata": {
        "colab": {
          "base_uri": "https://localhost:8080/",
          "height": 235
        },
        "outputId": "f1bd71b6-f290-4009-f21d-28e0a40ed623",
        "id": "HKf_7kRhdlu4"
      },
      "execution_count": 1,
      "outputs": [
        {
          "output_type": "error",
          "ename": "NameError",
          "evalue": "ignored",
          "traceback": [
            "\u001b[0;31m---------------------------------------------------------------------------\u001b[0m",
            "\u001b[0;31mNameError\u001b[0m                                 Traceback (most recent call last)",
            "\u001b[0;32m<ipython-input-1-45f6b0873345>\u001b[0m in \u001b[0;36m<module>\u001b[0;34m()\u001b[0m\n\u001b[1;32m      1\u001b[0m \u001b[0mimg_path\u001b[0m \u001b[0;34m=\u001b[0m \u001b[0;34m'/content/data/testing_data/no_entry/01_12_07_02_0039.bmp'\u001b[0m\u001b[0;34m\u001b[0m\u001b[0;34m\u001b[0m\u001b[0m\n\u001b[1;32m      2\u001b[0m \u001b[0;31m# img_path = '/content/data/testing_data/parking/01_14_07_01_0340.bmp'\u001b[0m\u001b[0;34m\u001b[0m\u001b[0;34m\u001b[0m\u001b[0;34m\u001b[0m\u001b[0m\n\u001b[0;32m----> 3\u001b[0;31m \u001b[0mimg\u001b[0m \u001b[0;34m=\u001b[0m \u001b[0mimage\u001b[0m\u001b[0;34m.\u001b[0m\u001b[0mload_img\u001b[0m\u001b[0;34m(\u001b[0m\u001b[0mimg_path\u001b[0m\u001b[0;34m,\u001b[0m \u001b[0mtarget_size\u001b[0m\u001b[0;34m=\u001b[0m\u001b[0;34m(\u001b[0m\u001b[0;36m224\u001b[0m\u001b[0;34m,\u001b[0m \u001b[0;36m224\u001b[0m\u001b[0;34m)\u001b[0m\u001b[0;34m)\u001b[0m\u001b[0;34m\u001b[0m\u001b[0;34m\u001b[0m\u001b[0m\n\u001b[0m\u001b[1;32m      4\u001b[0m \u001b[0mx\u001b[0m \u001b[0;34m=\u001b[0m \u001b[0mimage\u001b[0m\u001b[0;34m.\u001b[0m\u001b[0mimg_to_array\u001b[0m\u001b[0;34m(\u001b[0m\u001b[0mimg\u001b[0m\u001b[0;34m)\u001b[0m\u001b[0;34m\u001b[0m\u001b[0;34m\u001b[0m\u001b[0m\n\u001b[1;32m      5\u001b[0m \u001b[0mx\u001b[0m \u001b[0;34m=\u001b[0m \u001b[0mnp\u001b[0m\u001b[0;34m.\u001b[0m\u001b[0mexpand_dims\u001b[0m\u001b[0;34m(\u001b[0m\u001b[0mx\u001b[0m\u001b[0;34m,\u001b[0m \u001b[0maxis\u001b[0m\u001b[0;34m=\u001b[0m\u001b[0;36m0\u001b[0m\u001b[0;34m)\u001b[0m\u001b[0;34m\u001b[0m\u001b[0;34m\u001b[0m\u001b[0m\n",
            "\u001b[0;31mNameError\u001b[0m: name 'image' is not defined"
          ]
        }
      ]
    }
  ]
}